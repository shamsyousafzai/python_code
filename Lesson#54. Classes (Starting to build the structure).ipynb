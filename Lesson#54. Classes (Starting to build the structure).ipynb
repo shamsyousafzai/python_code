{
 "cells": [
  {
   "cell_type": "markdown",
   "metadata": {},
   "source": [
    "# Classes:Starting to build the structure"
   ]
  },
  {
   "cell_type": "markdown",
   "metadata": {},
   "source": [
    "The first line of code…\n",
    "\n",
    "class Patient():\n",
    "…tells Python that we're creating a class, a kind of template. The template will structure each instance, that is, each individual patient record.\n",
    "\n",
    "To begin with, we know that each patient's record contains a last name. So let's start there:"
   ]
  },
  {
   "cell_type": "code",
   "execution_count": 4,
   "metadata": {},
   "outputs": [
    {
     "ename": "SyntaxError",
     "evalue": "unexpected EOF while parsing (<ipython-input-4-06f39e249513>, line 6)",
     "output_type": "error",
     "traceback": [
      "\u001b[1;36m  File \u001b[1;32m\"<ipython-input-4-06f39e249513>\"\u001b[1;36m, line \u001b[1;32m6\u001b[0m\n\u001b[1;33m    # error due to no function.\u001b[0m\n\u001b[1;37m                               ^\u001b[0m\n\u001b[1;31mSyntaxError\u001b[0m\u001b[1;31m:\u001b[0m unexpected EOF while parsing\n"
     ]
    }
   ],
   "source": [
    "class Patient():\n",
    "    def __init__(self, last_name):\n",
    "\n",
    "        \n",
    "# Line 2 creates an attribute—a chunk of information to be provided about each patient:    \n",
    "# error due to no function."
   ]
  },
  {
   "cell_type": "markdown",
   "metadata": {},
   "source": [
    "# When you become a full-fledged computer scientist, you can come back and¶\n",
    "explain to me the deeper meaning of\n",
    "\n",
    "def init(self,….\n",
    "\n",
    "In the meantime, let's just say that it's always the same abracadabra:\n",
    "\n",
    "It's the keyword def…\n",
    "\n",
    "  class Patient():\n",
    "      def __init__(self, last_name):\n",
    "…followed by 2 underscores, the keyword init, then 2 more underscores…\n",
    "\n",
    " class Patient():\n",
    "     def __init__(self, last_name):\n",
    "…an opening parenthesis, the keyword self, and a comma…\n",
    "\n",
    "  class Patient():\n",
    "      def __init__(self, last_name):\n",
    "Then comes the name of an attribute to include in each individual patient record. In this case, it's the last name of the patient:\n",
    "\n",
    "  class Patient():\n",
    "      def __init__(self, last_name):\n",
    "Line 2 ends with a closing parenthesis and colon:\n",
    "\n",
    "  class Patient():\n",
    "      def __init__(self, last_name):\n",
    "Note that line 2 is indented."
   ]
  },
  {
   "cell_type": "code",
   "execution_count": null,
   "metadata": {},
   "outputs": [],
   "source": []
  }
 ],
 "metadata": {
  "kernelspec": {
   "display_name": "Python 3",
   "language": "python",
   "name": "python3"
  },
  "language_info": {
   "codemirror_mode": {
    "name": "ipython",
    "version": 3
   },
   "file_extension": ".py",
   "mimetype": "text/x-python",
   "name": "python",
   "nbconvert_exporter": "python",
   "pygments_lexer": "ipython3",
   "version": "3.7.1"
  }
 },
 "nbformat": 4,
 "nbformat_minor": 2
}
