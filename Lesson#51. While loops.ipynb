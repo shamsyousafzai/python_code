{
 "cells": [
  {
   "cell_type": "markdown",
   "metadata": {},
   "source": [
    "# While loops"
   ]
  },
  {
   "cell_type": "markdown",
   "metadata": {},
   "source": [
    "A for loop, as you learned, cycles through a series of things, repeating itself until it comes to the end of the series, or until it encounters a break statement. For example, you have a list of clean cities:"
   ]
  },
  {
   "cell_type": "code",
   "execution_count": 1,
   "metadata": {},
   "outputs": [],
   "source": [
    "cleanest_cities = [\"Cheyenne\", \"Santa Fe\", \"Tucson\", \"Great Falls\", \"Honolulu\"]"
   ]
  },
  {
   "cell_type": "code",
   "execution_count": 2,
   "metadata": {},
   "outputs": [
    {
     "name": "stdout",
     "output_type": "stream",
     "text": [
      "Enter the name of a city: 3\n"
     ]
    }
   ],
   "source": [
    "# The user enters the name of a city…\n",
    "city_to_check = input(\"Enter the name of a city: \")"
   ]
  },
  {
   "cell_type": "markdown",
   "metadata": {},
   "source": [
    "The loop then cycles through the list of clean cities, checking to see if there's a match:"
   ]
  },
  {
   "cell_type": "code",
   "execution_count": 4,
   "metadata": {},
   "outputs": [],
   "source": [
    "for a_clean_city in cleanest_cities:\n",
    "    if city_to_check == a_clean_city:\n",
    "        print(\"It's one of the cleanest cities\")\n",
    "        break"
   ]
  },
  {
   "cell_type": "markdown",
   "metadata": {},
   "source": [
    "But suppose you want the user to be able to check a city, and then if she wants, check another city after that, and then another city after that, etc.\n",
    "\n",
    "For this, you use a while loop:\n",
    "    "
   ]
  },
  {
   "cell_type": "code",
   "execution_count": 6,
   "metadata": {},
   "outputs": [
    {
     "name": "stdout",
     "output_type": "stream",
     "text": [
      "Enter a city, or q to quit:khi\n",
      "Enter a city, or q to quit:fgg\n",
      "Enter a city, or q to quit:fbnh\n",
      "Enter a city, or q to quit:ccvvbg\n",
      "Enter a city, or q to quit: vv\n",
      "Enter a city, or q to quit:g\n",
      "Enter a city, or q to quit:q\n"
     ]
    }
   ],
   "source": [
    "user_input = \"\"\n",
    "while user_input != \"q\":\n",
    "    user_input = input(\"Enter a city, or q to quit:\")\n",
    "    if user_input != \"q\":\n",
    "        for a_clean_city in cleanest_cities:\n",
    "            if user_input == a_clean_city:\n",
    "                print(\"It's one of the cleanest cities\")"
   ]
  },
  {
   "cell_type": "markdown",
   "metadata": {},
   "source": [
    "On line 1 the variable user_input is assigned an initial value of \"\"—an empty string:\n",
    "\n",
    "Line 2 says, \"For as long as the user hasn't entered \"q,\" keep executing the code that follows:\"\n",
    "\n",
    "In Line 3 Python prompts for the user's input, and places it in the variable user_input.\n",
    "\n",
    "If the user has entered anything other than \"q\"…\n",
    "\n",
    "…Python loops through the list of cleanest cities, trying to find a match with the city that the user entered:\n",
    "\n",
    "The for loop either finds a match or it doesn't. In either case, Python goes back to line 2, checking to see if \"q\" has been entered. If \"q\" hasn't been entered, the prompt executes again. If \"q\" has been entered, the while loop ends.\n",
    "\n",
    "Things to remember:\n",
    "\n",
    "You have to assign a value to the variable that the while loop depends on, in this case user_input, before you start the while loop. Otherwise, the first time through, before the user has entered anything, Python doesn't recognize the variable when you ask it to check its value in line 2. In this example, the value is an empty string.\n",
    "As always, when a block of code is controlled by code above it, the dependent block is indented. All the statements below line 2 are controlled by line 2's while statement, so they're indented. All the statements below line 4 are controlled by line 4's if statement, so they're indented. All the statements below line 5 are controlled by line 5's for statement, so they're indented. All the statements below line 6 are controlled by line 6's if statement, so they're indented"
   ]
  },
  {
   "cell_type": "code",
   "execution_count": null,
   "metadata": {},
   "outputs": [],
   "source": []
  }
 ],
 "metadata": {
  "kernelspec": {
   "display_name": "Python 3",
   "language": "python",
   "name": "python3"
  },
  "language_info": {
   "codemirror_mode": {
    "name": "ipython",
    "version": 3
   },
   "file_extension": ".py",
   "mimetype": "text/x-python",
   "name": "python",
   "nbconvert_exporter": "python",
   "pygments_lexer": "ipython3",
   "version": "3.7.1"
  }
 },
 "nbformat": 4,
 "nbformat_minor": 2
}
