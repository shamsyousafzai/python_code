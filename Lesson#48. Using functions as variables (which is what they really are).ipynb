{
 "cells": [
  {
   "cell_type": "markdown",
   "metadata": {},
   "source": [
    "# Using functions as variables (which is what they really are)"
   ]
  },
  {
   "cell_type": "markdown",
   "metadata": {},
   "source": [
    "In the last chapter, I may have confused you when I said you could condense…\n",
    "\n",
    "sales_tax = calc_tax(sales_total=101.37, tax_rate=.05)\n",
    "print(sales_tax)\n",
    "..into\n",
    "\n",
    "print(calc_tax(sales_total=101.37, tax_rate=.05))\n",
    "In the longer, two-line code, the variable sales_tax receives the value returned by the function calc_tax. Then the variable is used in the print statement to tell Python the value to display.\n",
    "\n",
    "In the condensed statement, it appears that I'm telling Python to display the function! But really, I'm telling Python to display the value that's returned by the function. Instead of enclosing a variable in the parentheses, I'm enclosing the function. This is legal, because a function is a variable.\n",
    "\n",
    "Here's another example. Let's say I write a function that adds two numbers…"
   ]
  },
  {
   "cell_type": "code",
   "execution_count": 3,
   "metadata": {},
   "outputs": [],
   "source": [
    "def add_numbers(first_number, second_number):\n",
    "    return first_number + second_number\n",
    "\n",
    "# …and another function that subtracts two numbers…\n",
    "\n",
    "def subtract_numbers(first_number, second_number):\n",
    "    return first_number - second_number\n"
   ]
  },
  {
   "cell_type": "code",
   "execution_count": 4,
   "metadata": {},
   "outputs": [
    {
     "name": "stdout",
     "output_type": "stream",
     "text": [
      "4\n"
     ]
    }
   ],
   "source": [
    "# Suppose I write…\n",
    "result_of_adding = add_numbers(1, 2)\n",
    "result_of_subtracting = subtract_numbers(3, 2)\n",
    "sum_of_results = result_of_adding + result_of_subtracting\n",
    "print(sum_of_results)"
   ]
  },
  {
   "cell_type": "markdown",
   "metadata": {},
   "source": [
    "Line 1 calls the first function. The result, 3, is returned and placed in result_of_adding.\n",
    "\n",
    "Line 2 calls the second function. The result, 1, is returned and placed in result_of_subtracting.\n",
    "\n",
    "Line 3 totals the values stored in the two variables, 4, and assigns the sum to sum_of_results.\n",
    "\n",
    "This can all be condensed into one line by replacing the two variables with the functions themselves:"
   ]
  },
  {
   "cell_type": "code",
   "execution_count": 6,
   "metadata": {},
   "outputs": [
    {
     "name": "stdout",
     "output_type": "stream",
     "text": [
      "11\n"
     ]
    }
   ],
   "source": [
    "sum_of_results = add_numbers(5, 5) + subtract_numbers(4, 3)\n",
    "print(sum_of_results)"
   ]
  },
  {
   "cell_type": "code",
   "execution_count": null,
   "metadata": {},
   "outputs": [],
   "source": []
  }
 ],
 "metadata": {
  "kernelspec": {
   "display_name": "Python 3",
   "language": "python",
   "name": "python3"
  },
  "language_info": {
   "codemirror_mode": {
    "name": "ipython",
    "version": 3
   },
   "file_extension": ".py",
   "mimetype": "text/x-python",
   "name": "python",
   "nbconvert_exporter": "python",
   "pygments_lexer": "ipython3",
   "version": "3.7.1"
  }
 },
 "nbformat": 4,
 "nbformat_minor": 2
}
