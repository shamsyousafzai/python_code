{
 "cells": [
  {
   "cell_type": "markdown",
   "metadata": {},
   "source": [
    "# if statement"
   ]
  },
  {
   "cell_type": "code",
   "execution_count": 2,
   "metadata": {},
   "outputs": [
    {
     "name": "stdout",
     "output_type": "stream",
     "text": [
      "Yep, it's cat.\n"
     ]
    }
   ],
   "source": [
    "species = \"cat\"\n",
    "if species == \"cat\":# If the string \"cat\" has been assigned to the variable species.\n",
    "    print(\"Yep, it's cat.\")  # python displays the message Yep, it's cat."
   ]
  },
  {
   "cell_type": "code",
   "execution_count": 3,
   "metadata": {},
   "outputs": [
    {
     "ename": "SyntaxError",
     "evalue": "invalid syntax (<ipython-input-3-3329d729959e>, line 1)",
     "output_type": "error",
     "traceback": [
      "\u001b[1;36m  File \u001b[1;32m\"<ipython-input-3-3329d729959e>\"\u001b[1;36m, line \u001b[1;32m1\u001b[0m\n\u001b[1;33m    If species == \"cat:\" # If we write If instead of if, it won't work.\u001b[0m\n\u001b[1;37m             ^\u001b[0m\n\u001b[1;31mSyntaxError\u001b[0m\u001b[1;31m:\u001b[0m invalid syntax\n"
     ]
    }
   ],
   "source": [
    "If species == \"cat:\" # If we write If instead of if, it won't work.\n",
    "    print(\"yeo, it's cat\")"
   ]
  },
  {
   "cell_type": "code",
   "execution_count": 4,
   "metadata": {},
   "outputs": [
    {
     "name": "stdout",
     "output_type": "stream",
     "text": [
      "Yep, it's cat.\n"
     ]
    }
   ],
   "source": [
    "#in operator the operator hast to be == , otherwise we will get an error.\n",
    "if species == \"cat\":\n",
    "    print(\"Yep, it's cat.\")"
   ]
  },
  {
   "cell_type": "code",
   "execution_count": 6,
   "metadata": {},
   "outputs": [
    {
     "name": "stdout",
     "output_type": "stream",
     "text": [
      "Yep, it's cat.\n"
     ]
    }
   ],
   "source": [
    "if species == \"cat\": # if the test is yes,each thing that happens gets its own line\n",
    "    status = \"ok\" # all lines are indented\n",
    "    kingdom = \"animal\"\n",
    "    print(\"Yep, it's cat.\")"
   ]
  },
  {
   "cell_type": "code",
   "execution_count": 8,
   "metadata": {},
   "outputs": [
    {
     "name": "stdout",
     "output_type": "stream",
     "text": [
      "Everything makes sense.\n"
     ]
    }
   ],
   "source": [
    "if 2 + 2 == 4: # numbers also can be tested\n",
    "    print(\"Everything makes sense.\")"
   ]
  },
  {
   "cell_type": "code",
   "execution_count": 13,
   "metadata": {},
   "outputs": [
    {
     "name": "stdout",
     "output_type": "stream",
     "text": [
      "So far so good.\n",
      "Congratulations.\n",
      "All done\n"
     ]
    }
   ],
   "source": [
    "# one more example\n",
    "number_of_husbands = 1\n",
    "if number_of_husbands == 1:\n",
    "    print(\"So far so good.\")\n",
    "    print(\"Congratulations.\")\n",
    "    print(\"All done\")\n",
    "    "
   ]
  },
  {
   "cell_type": "code",
   "execution_count": null,
   "metadata": {},
   "outputs": [],
   "source": []
  }
 ],
 "metadata": {
  "kernelspec": {
   "display_name": "Python 3",
   "language": "python",
   "name": "python3"
  },
  "language_info": {
   "codemirror_mode": {
    "name": "ipython",
    "version": 3
   },
   "file_extension": ".py",
   "mimetype": "text/x-python",
   "name": "python",
   "nbconvert_exporter": "python",
   "pygments_lexer": "ipython3",
   "version": "3.7.1"
  }
 },
 "nbformat": 4,
 "nbformat_minor": 2
}
