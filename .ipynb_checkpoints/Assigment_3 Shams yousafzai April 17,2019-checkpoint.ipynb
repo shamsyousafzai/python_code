{
 "cells": [
  {
   "cell_type": "markdown",
   "metadata": {},
   "source": [
    "# Assignment 3 List comprehension"
   ]
  },
  {
   "cell_type": "markdown",
   "metadata": {},
   "source": [
    "<h3>Q no 1 : you have some strings in variable text your task is to make a list of capital letters only using list comprehension and print that list</h3>\n",
    "<h4>Hint! explore isUpper() method then do this</h4>"
   ]
  },
  {
   "cell_type": "code",
   "execution_count": 7,
   "metadata": {},
   "outputs": [
    {
     "data": {
      "text/plain": [
       "['M', 'N', 'I', 'S']"
      ]
     },
     "execution_count": 7,
     "metadata": {},
     "output_type": "execute_result"
    }
   ],
   "source": [
    "string = \"My Name Is Shams\"\n",
    "list = [word for word in string if word.isupper() == True]\n",
    "list"
   ]
  },
  {
   "cell_type": "markdown",
   "metadata": {},
   "source": [
    "<h3>Q no 2: Make a list of numbers from 0 to 20 which is divisible by 2 using list comprehension</h3>"
   ]
  },
  {
   "cell_type": "code",
   "execution_count": 8,
   "metadata": {},
   "outputs": [],
   "source": [
    "list_1 = [x for x in range(0,20,2)]"
   ]
  },
  {
   "cell_type": "code",
   "execution_count": 11,
   "metadata": {},
   "outputs": [
    {
     "data": {
      "text/plain": [
       "[0, 2, 4, 6, 8, 10, 12, 14, 16, 18]"
      ]
     },
     "execution_count": 11,
     "metadata": {},
     "output_type": "execute_result"
    }
   ],
   "source": [
    "list_1"
   ]
  },
  {
   "cell_type": "code",
   "execution_count": null,
   "metadata": {},
   "outputs": [],
   "source": []
  },
  {
   "cell_type": "markdown",
   "metadata": {},
   "source": [
    "<h3>Q no 3 : Find all of the numbers from 1-1000 that are divisible by 7 by making a list using list comprehension and print it</h3>"
   ]
  },
  {
   "cell_type": "code",
   "execution_count": 15,
   "metadata": {},
   "outputs": [],
   "source": [
    "list_3 = [x for x in range(1,1000,7)]"
   ]
  },
  {
   "cell_type": "code",
   "execution_count": 17,
   "metadata": {},
   "outputs": [
    {
     "data": {
      "text/plain": [
       "[1,\n",
       " 8,\n",
       " 15,\n",
       " 22,\n",
       " 29,\n",
       " 36,\n",
       " 43,\n",
       " 50,\n",
       " 57,\n",
       " 64,\n",
       " 71,\n",
       " 78,\n",
       " 85,\n",
       " 92,\n",
       " 99,\n",
       " 106,\n",
       " 113,\n",
       " 120,\n",
       " 127,\n",
       " 134,\n",
       " 141,\n",
       " 148,\n",
       " 155,\n",
       " 162,\n",
       " 169,\n",
       " 176,\n",
       " 183,\n",
       " 190,\n",
       " 197,\n",
       " 204,\n",
       " 211,\n",
       " 218,\n",
       " 225,\n",
       " 232,\n",
       " 239,\n",
       " 246,\n",
       " 253,\n",
       " 260,\n",
       " 267,\n",
       " 274,\n",
       " 281,\n",
       " 288,\n",
       " 295,\n",
       " 302,\n",
       " 309,\n",
       " 316,\n",
       " 323,\n",
       " 330,\n",
       " 337,\n",
       " 344,\n",
       " 351,\n",
       " 358,\n",
       " 365,\n",
       " 372,\n",
       " 379,\n",
       " 386,\n",
       " 393,\n",
       " 400,\n",
       " 407,\n",
       " 414,\n",
       " 421,\n",
       " 428,\n",
       " 435,\n",
       " 442,\n",
       " 449,\n",
       " 456,\n",
       " 463,\n",
       " 470,\n",
       " 477,\n",
       " 484,\n",
       " 491,\n",
       " 498,\n",
       " 505,\n",
       " 512,\n",
       " 519,\n",
       " 526,\n",
       " 533,\n",
       " 540,\n",
       " 547,\n",
       " 554,\n",
       " 561,\n",
       " 568,\n",
       " 575,\n",
       " 582,\n",
       " 589,\n",
       " 596,\n",
       " 603,\n",
       " 610,\n",
       " 617,\n",
       " 624,\n",
       " 631,\n",
       " 638,\n",
       " 645,\n",
       " 652,\n",
       " 659,\n",
       " 666,\n",
       " 673,\n",
       " 680,\n",
       " 687,\n",
       " 694,\n",
       " 701,\n",
       " 708,\n",
       " 715,\n",
       " 722,\n",
       " 729,\n",
       " 736,\n",
       " 743,\n",
       " 750,\n",
       " 757,\n",
       " 764,\n",
       " 771,\n",
       " 778,\n",
       " 785,\n",
       " 792,\n",
       " 799,\n",
       " 806,\n",
       " 813,\n",
       " 820,\n",
       " 827,\n",
       " 834,\n",
       " 841,\n",
       " 848,\n",
       " 855,\n",
       " 862,\n",
       " 869,\n",
       " 876,\n",
       " 883,\n",
       " 890,\n",
       " 897,\n",
       " 904,\n",
       " 911,\n",
       " 918,\n",
       " 925,\n",
       " 932,\n",
       " 939,\n",
       " 946,\n",
       " 953,\n",
       " 960,\n",
       " 967,\n",
       " 974,\n",
       " 981,\n",
       " 988,\n",
       " 995]"
      ]
     },
     "execution_count": 17,
     "metadata": {},
     "output_type": "execute_result"
    }
   ],
   "source": [
    "list_3"
   ]
  },
  {
   "cell_type": "markdown",
   "metadata": {},
   "source": [
    "<h3>Q no 4 : Count the number of spaces in a string below using list comprehension and print the result</h3>"
   ]
  },
  {
   "cell_type": "code",
   "execution_count": 21,
   "metadata": {},
   "outputs": [
    {
     "data": {
      "text/plain": [
       "[5]"
      ]
     },
     "execution_count": 21,
     "metadata": {},
     "output_type": "execute_result"
    }
   ],
   "source": [
    "string_2 = \" I am learning python language\"\n",
    "list_3 = [string_2.count(\" \")]\n",
    "list_3"
   ]
  },
  {
   "cell_type": "markdown",
   "metadata": {},
   "source": [
    "<h3>Q no 5 : Write a script that draws a triangle as below:</h3>"
   ]
  },
  {
   "cell_type": "raw",
   "metadata": {},
   "source": [
    "*\n",
    "**\n",
    "***\n",
    "****\n",
    "*****\n",
    "******\n",
    "*******\n",
    "********\n",
    "*********\n",
    "**********\n",
    "***********\n",
    "************"
   ]
  },
  {
   "cell_type": "code",
   "execution_count": 18,
   "metadata": {},
   "outputs": [
    {
     "name": "stdout",
     "output_type": "stream",
     "text": [
      "\n",
      "*\n",
      "**\n",
      "***\n",
      "****\n",
      "*****\n",
      "******\n",
      "*******\n",
      "********\n",
      "*********\n",
      "**********\n",
      "***********\n",
      "************\n"
     ]
    }
   ],
   "source": [
    "for x in range(13):\n",
    "    print(\"*\" * x)\n"
   ]
  },
  {
   "cell_type": "markdown",
   "metadata": {},
   "source": [
    "<h3>Q no 6 : Write a script that draws a geometric shape as below:</h3>"
   ]
  },
  {
   "cell_type": "raw",
   "metadata": {},
   "source": [
    "*\n",
    "**\n",
    "***\n",
    "****\n",
    "*****\n",
    "******\n",
    "*******\n",
    "******\n",
    "*****\n",
    "****\n",
    "***\n",
    "**\n",
    "*"
   ]
  },
  {
   "cell_type": "code",
   "execution_count": 19,
   "metadata": {},
   "outputs": [
    {
     "name": "stdout",
     "output_type": "stream",
     "text": [
      "\n",
      "*\n",
      "**\n",
      "***\n",
      "****\n",
      "*****\n",
      "******\n",
      "*******\n",
      "******\n",
      "*****\n",
      "****\n",
      "***\n",
      "**\n",
      "*\n"
     ]
    }
   ],
   "source": [
    "for x in range(0,7):\n",
    "    print(\"*\" * x)\n",
    "for x in range(7,0,-1):\n",
    "    print(\"*\" * x)"
   ]
  },
  {
   "cell_type": "markdown",
   "metadata": {},
   "source": [
    "<h3>Q no 7 :Find all of the words in a string that are less than 4 letters using list comprehension</h3>"
   ]
  },
  {
   "cell_type": "code",
   "execution_count": 30,
   "metadata": {},
   "outputs": [],
   "source": [
    "Name_1 = \"Ali Zeeshan Shams Smash All New\""
   ]
  },
  {
   "cell_type": "code",
   "execution_count": 31,
   "metadata": {},
   "outputs": [
    {
     "data": {
      "text/plain": [
       "['Ali', 'Zeeshan', 'Shams', 'Smash', 'All', 'New']"
      ]
     },
     "execution_count": 31,
     "metadata": {},
     "output_type": "execute_result"
    }
   ],
   "source": [
    "List_new = Name_1.split()\n",
    "List_new"
   ]
  },
  {
   "cell_type": "code",
   "execution_count": 33,
   "metadata": {},
   "outputs": [
    {
     "name": "stdout",
     "output_type": "stream",
     "text": [
      "['Ali', 'All', 'New']\n"
     ]
    }
   ],
   "source": [
    "list_5 = [x for x in List_new if len(x) < 4]\n",
    "print(list_5)"
   ]
  },
  {
   "cell_type": "code",
   "execution_count": null,
   "metadata": {},
   "outputs": [],
   "source": []
  }
 ],
 "metadata": {
  "kernelspec": {
   "display_name": "Python 3",
   "language": "python",
   "name": "python3"
  },
  "language_info": {
   "codemirror_mode": {
    "name": "ipython",
    "version": 3
   },
   "file_extension": ".py",
   "mimetype": "text/x-python",
   "name": "python",
   "nbconvert_exporter": "python",
   "pygments_lexer": "ipython3",
   "version": "3.7.1"
  }
 },
 "nbformat": 4,
 "nbformat_minor": 2
}
