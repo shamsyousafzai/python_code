{
 "cells": [
  {
   "cell_type": "markdown",
   "metadata": {},
   "source": [
    "# Dictionaries: Looping through values"
   ]
  },
  {
   "cell_type": "code",
   "execution_count": 1,
   "metadata": {},
   "outputs": [],
   "source": [
    "customer_29876 = {\"first name\": \"David\", \"last name\": \"Elliott\", \"address\": \"4803 Wellesley St.\"}"
   ]
  },
  {
   "cell_type": "code",
   "execution_count": 2,
   "metadata": {},
   "outputs": [
    {
     "data": {
      "text/plain": [
       "{'first name': 'David',\n",
       " 'last name': 'Elliott',\n",
       " 'address': '4803 Wellesley St.'}"
      ]
     },
     "execution_count": 2,
     "metadata": {},
     "output_type": "execute_result"
    }
   ],
   "source": [
    "customer_29876"
   ]
  },
  {
   "cell_type": "code",
   "execution_count": 5,
   "metadata": {},
   "outputs": [
    {
     "name": "stdout",
     "output_type": "stream",
     "text": [
      "David\n",
      "Elliott\n",
      "4803 Wellesley St.\n"
     ]
    }
   ],
   "source": [
    "#Let's say you want to display all the values in the customer_29876 dictionary.\n",
    "# Using the abbreviated example from earlier chapters, you could write\n",
    "\n",
    "print(customer_29876[\"first name\"])\n",
    "print(customer_29876[\"last name\"])\n",
    "print(customer_29876[\"address\"])"
   ]
  },
  {
   "cell_type": "markdown",
   "metadata": {},
   "source": [
    "###### This works, but suppose this were a more realistic dictionary containing twenty or thirty pieces of information about David Elliott. We'd all prefer not to write twenty or thirty lines of code to retrieve and display all the values. To the rescue comes looping."
   ]
  },
  {
   "cell_type": "code",
   "execution_count": 6,
   "metadata": {},
   "outputs": [
    {
     "name": "stdout",
     "output_type": "stream",
     "text": [
      "David\n",
      "Elliott\n",
      "4803 Wellesley St.\n"
     ]
    }
   ],
   "source": [
    "for each_value in customer_29876.values():\n",
    "    print(each_value)\n",
    "    \n",
    "# only print down the values in customer_29876 dictionary"
   ]
  },
  {
   "cell_type": "code",
   "execution_count": null,
   "metadata": {},
   "outputs": [],
   "source": []
  }
 ],
 "metadata": {
  "kernelspec": {
   "display_name": "Python 3",
   "language": "python",
   "name": "python3"
  },
  "language_info": {
   "codemirror_mode": {
    "name": "ipython",
    "version": 3
   },
   "file_extension": ".py",
   "mimetype": "text/x-python",
   "name": "python",
   "nbconvert_exporter": "python",
   "pygments_lexer": "ipython3",
   "version": "3.7.1"
  }
 },
 "nbformat": 4,
 "nbformat_minor": 2
}
