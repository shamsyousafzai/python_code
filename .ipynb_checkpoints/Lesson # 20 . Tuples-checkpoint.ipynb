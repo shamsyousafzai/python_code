{
 "cells": [
  {
   "cell_type": "markdown",
   "metadata": {},
   "source": [
    "# Tuples \n",
    "tuples are like a list, but the elements are fixed. They can't be changed—unless you redefine the\n",
    "whole tuple."
   ]
  },
  {
   "cell_type": "code",
   "execution_count": 40,
   "metadata": {},
   "outputs": [],
   "source": [
    "# to create a tuple we use paranthesis instead of square brackits\n",
    "states_in_order_of_founding = (\"Delaware\",\"Pennsylvania\", \"New Jersey\", \"Georgia\")"
   ]
  },
  {
   "cell_type": "code",
   "execution_count": 44,
   "metadata": {},
   "outputs": [],
   "source": [
    "# we can pick a particular element out of a tuple using the same way as we used for a list.\n",
    "second_state_founded = states_in_order_of_founding[1]"
   ]
  },
  {
   "cell_type": "code",
   "execution_count": 45,
   "metadata": {},
   "outputs": [
    {
     "name": "stdout",
     "output_type": "stream",
     "text": [
      "The second state founded was Pennsylvania\n"
     ]
    }
   ],
   "source": [
    "print(\"The second state founded was \" + second_state_founded)"
   ]
  },
  {
   "cell_type": "code",
   "execution_count": 52,
   "metadata": {},
   "outputs": [],
   "source": [
    "# a tuple doesn't allow you to make any changes in any of the ways that a list allows.\n",
    "# You can't add, modify, remove, delete, or pop.\n",
    "# you have to define the tuple all over again , if you must make a change.\n",
    "states_in_order_of_founding = (\"Delaware\",\"Taylorswiftsylvania as Pennsylvania\", \"New Jersey\", \"Georgia\")"
   ]
  },
  {
   "cell_type": "code",
   "execution_count": 51,
   "metadata": {},
   "outputs": [
    {
     "data": {
      "text/plain": [
       "('Delaware', 'Taylorswiftsylvania as Pennsylvania', 'New Jersey', 'Georgia')"
      ]
     },
     "execution_count": 51,
     "metadata": {},
     "output_type": "execute_result"
    }
   ],
   "source": [
    "states_in_order_of_founding"
   ]
  },
  {
   "cell_type": "code",
   "execution_count": null,
   "metadata": {},
   "outputs": [],
   "source": []
  }
 ],
 "metadata": {
  "kernelspec": {
   "display_name": "Python 3",
   "language": "python",
   "name": "python3"
  },
  "language_info": {
   "codemirror_mode": {
    "name": "ipython",
    "version": 3
   },
   "file_extension": ".py",
   "mimetype": "text/x-python",
   "name": "python",
   "nbconvert_exporter": "python",
   "pygments_lexer": "ipython3",
   "version": "3.7.1"
  }
 },
 "nbformat": 4,
 "nbformat_minor": 2
}
