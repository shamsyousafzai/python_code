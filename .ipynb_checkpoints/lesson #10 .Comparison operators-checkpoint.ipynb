{
 "cells": [
  {
   "cell_type": "markdown",
   "metadata": {},
   "source": [
    "# Comparison operators"
   ]
  },
  {
   "cell_type": "code",
   "execution_count": 7,
   "metadata": {},
   "outputs": [
    {
     "name": "stdout",
     "output_type": "stream",
     "text": [
      "ok\n"
     ]
    }
   ],
   "source": [
    "full_name = \"Mark\" + \" \" + \"mayers\"\n",
    "if full_name == \"Mark\" + \" \" + \"mayers\": # == is a type of comparison operator,also used as equality operator\n",
    "    print(\"ok\")"
   ]
  },
  {
   "cell_type": "code",
   "execution_count": 9,
   "metadata": {},
   "outputs": [
    {
     "name": "stdout",
     "output_type": "stream",
     "text": [
      "okay\n"
     ]
    }
   ],
   "source": [
    "first_name = \"Mark\" # we can use the equality operator to compare a variable with a variable,string or number\n",
    "last_name = \"mayers\"\n",
    "if full_name == first_name + \" \" + last_name:\n",
    "    print(\"okay\")"
   ]
  },
  {
   "cell_type": "code",
   "execution_count": 10,
   "metadata": {},
   "outputs": [
    {
     "data": {
      "text/plain": [
       "'\\nif full_name == \"Mark\" + \" \" + \"Myers\":  \\nif full_name == first_name + \" \" + \"Myers\":\\nif full_name == first_name + \" \" + last_name:\\nif total_cost == 81.50 + 135:\\nif total_cost == materials_cost + 135:\\nif total_cost == materials_cost + labor_cost:\\nif x + y == a - b:\\n'"
      ]
     },
     "execution_count": 10,
     "metadata": {},
     "output_type": "execute_result"
    }
   ],
   "source": [
    "'''\n",
    "if full_name == \"Mark\" + \" \" + \"Myers\":  \n",
    "if full_name == first_name + \" \" + \"Myers\":\n",
    "if full_name == first_name + \" \" + last_name:\n",
    "if total_cost == 81.50 + 135:\n",
    "if total_cost == materials_cost + 135:\n",
    "if total_cost == materials_cost + labor_cost:\n",
    "if x + y == a - b:\n",
    "'''\n"
   ]
  },
  {
   "cell_type": "code",
   "execution_count": 15,
   "metadata": {},
   "outputs": [
    {
     "name": "stdout",
     "output_type": "stream",
     "text": [
      "Better luck next time.\n"
     ]
    }
   ],
   "source": [
    "your_ticket_number = 5555  # != is acomparison operator, it isthe opposite of ==.It means is not equal to.\n",
    "if your_ticket_number != 487208:\n",
    "    print(\"Better luck next time.\")"
   ]
  },
  {
   "cell_type": "code",
   "execution_count": 16,
   "metadata": {},
   "outputs": [
    {
     "name": "stdout",
     "output_type": "stream",
     "text": [
      "1\n"
     ]
    }
   ],
   "source": [
    "# here are four more comparison operators\n",
    "# > is greater than\n",
    "# < is less than\n",
    "# >= is greater than or equal to\n",
    "# <= is less than or equal to\n",
    "\n",
    "if 1 > 0:\n",
    "    print(1)\n"
   ]
  },
  {
   "cell_type": "code",
   "execution_count": 17,
   "metadata": {},
   "outputs": [
    {
     "name": "stdout",
     "output_type": "stream",
     "text": [
      "1\n"
     ]
    }
   ],
   "source": [
    "if 1 <= 1:\n",
    "    print(1)"
   ]
  },
  {
   "cell_type": "code",
   "execution_count": 19,
   "metadata": {},
   "outputs": [
    {
     "ename": "IndentationError",
     "evalue": "expected an indented block (<ipython-input-19-e0ba59e80246>, line 2)",
     "output_type": "error",
     "traceback": [
      "\u001b[1;36m  File \u001b[1;32m\"<ipython-input-19-e0ba59e80246>\"\u001b[1;36m, line \u001b[1;32m2\u001b[0m\n\u001b[1;33m    print(okay)\u001b[0m\n\u001b[1;37m        ^\u001b[0m\n\u001b[1;31mIndentationError\u001b[0m\u001b[1;31m:\u001b[0m expected an indented block\n"
     ]
    }
   ],
   "source": [
    "if 0> 1: if the test fails it will give error\n",
    "print(okay)"
   ]
  },
  {
   "cell_type": "code",
   "execution_count": null,
   "metadata": {},
   "outputs": [],
   "source": []
  }
 ],
 "metadata": {
  "kernelspec": {
   "display_name": "Python 3",
   "language": "python",
   "name": "python3"
  },
  "language_info": {
   "codemirror_mode": {
    "name": "ipython",
    "version": 3
   },
   "file_extension": ".py",
   "mimetype": "text/x-python",
   "name": "python",
   "nbconvert_exporter": "python",
   "pygments_lexer": "ipython3",
   "version": "3.7.1"
  }
 },
 "nbformat": 4,
 "nbformat_minor": 2
}
