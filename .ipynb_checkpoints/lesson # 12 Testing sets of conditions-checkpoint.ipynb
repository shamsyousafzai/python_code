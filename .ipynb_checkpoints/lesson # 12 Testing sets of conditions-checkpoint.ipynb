{
 "cells": [
  {
   "cell_type": "markdown",
   "metadata": {},
   "source": [
    "# Testing sets of conditions"
   ]
  },
  {
   "cell_type": "code",
   "execution_count": 16,
   "metadata": {},
   "outputs": [
    {
     "name": "stdout",
     "output_type": "stream",
     "text": [
      "try to recruit him\n"
     ]
    }
   ],
   "source": [
    "# and operator is used to test the combination of condition at a time. \n",
    "weight = 350 #if statement is used to test that if the condition is true or not\n",
    "time = 4\n",
    "if weight > 300 and time < 6:\n",
    "    print(\"try to recruit him\")"
   ]
  },
  {
   "cell_type": "code",
   "execution_count": 19,
   "metadata": {},
   "outputs": [],
   "source": [
    "weight = 90 #if even any one of the statement is false it will not print any thing\n",
    "time = 45\n",
    "if weight > 300 and time < 6:\n",
    "    print(\"try to recruit him\")"
   ]
  },
  {
   "cell_type": "code",
   "execution_count": 23,
   "metadata": {},
   "outputs": [],
   "source": [
    "age = 18 #You can chain any number of conditions together.\n",
    "height = 50\n",
    "if weight > 30 and time < 6 and age > 17 and height < 72:\n",
    "    status = \"he is a giant\""
   ]
  },
  {
   "cell_type": "code",
   "execution_count": 25,
   "metadata": {},
   "outputs": [],
   "source": [
    "# an operator  or  is used to test if any one of the conditions is met\n",
    "SAT = 30\n",
    "avg = 25\n",
    "GPA = 2.5\n",
    "parent = \"alm\"\n",
    "if SAT > avg or GPA > 2.5 or parent == \"alum\": #in order to print the message only one condition must be met\n",
    "    message = \"Welcome to Leeds College!\""
   ]
  },
  {
   "cell_type": "code",
   "execution_count": 27,
   "metadata": {},
   "outputs": [
    {
     "data": {
      "text/plain": [
       "'Welcome to Leeds College!'"
      ]
     },
     "execution_count": 27,
     "metadata": {},
     "output_type": "execute_result"
    }
   ],
   "source": [
    "message"
   ]
  },
  {
   "cell_type": "code",
   "execution_count": 30,
   "metadata": {},
   "outputs": [],
   "source": [
    "res = \"U.K.\" # we also can use both the operators in one code\n",
    "if (age > 65 or age < 21) and res == \"U.K.\":\n",
    "    Status = \"hight\""
   ]
  },
  {
   "cell_type": "code",
   "execution_count": 31,
   "metadata": {},
   "outputs": [
    {
     "data": {
      "text/plain": [
       "'hight'"
      ]
     },
     "execution_count": 31,
     "metadata": {},
     "output_type": "execute_result"
    }
   ],
   "source": [
    "Status"
   ]
  },
  {
   "cell_type": "code",
   "execution_count": null,
   "metadata": {},
   "outputs": [],
   "source": []
  }
 ],
 "metadata": {
  "kernelspec": {
   "display_name": "Python 3",
   "language": "python",
   "name": "python3"
  },
  "language_info": {
   "codemirror_mode": {
    "name": "ipython",
    "version": 3
   },
   "file_extension": ".py",
   "mimetype": "text/x-python",
   "name": "python",
   "nbconvert_exporter": "python",
   "pygments_lexer": "ipython3",
   "version": "3.7.1"
  }
 },
 "nbformat": 4,
 "nbformat_minor": 2
}
