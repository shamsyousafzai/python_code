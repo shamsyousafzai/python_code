{
 "cells": [
  {
   "cell_type": "markdown",
   "metadata": {},
   "source": [
    "# ATM assignment No:3 2019 _4_10\n",
    "Amount\n",
    "\n",
    "Welcome to Virtual Bank Press 1 for Withdraw Amount Press 2 for Amount Deposite Press 3 for Balance Inquiry Press 4 Exit\n",
    "\n",
    "command\n",
    "\n",
    "## print(\"----------------------------------------------------------------------------------------\")\n",
    "command\n",
    "\n",
    "Withdraw \"Please Enter the amount to withdraw: \"\n",
    "\n",
    "Amount Withdraw: You do not have sufficient Amount to Withdraw!\") Please deposite amount first.\") Do you want to Deposite amount?\") (\"Type 1 for Yes\") (\"Type 2 for No\")\n",
    "\n",
    "Amount \"Please Enter the amount to Deposite: \"\n",
    "        Congratulation your Transaction has been completed succcufully\"\n",
    "       Thank you for banking with us\"\n",
    "    else:\n",
    "        Thank you for banking with us\n",
    "\n",
    "\n",
    "   Congratulation your Transaction has been completed succcufully\n",
    "    Remainging_Balance = Amount - Withdraw\n",
    "Withdraw Amount: \", Withdraw) Balance : \", Remainging_Balance Please count your cash before leaving ATM Thank you for banking with us\n",
    "\n",
    "elif command Deposite \"Please Enter the amount to Deposite: \" print(\"----------------------------------------------------------------------------------------\") Current_Amount Amount Deposite \"Congratulation your Transaction has been completed succcufully\" \"Your current amount :\" \" Thank you for banking with us\"\n",
    "\n",
    "elif command \"Your current amount :\" \"Thank you for banking with us\"\n",
    "\n",
    "elif command print else: print(\"----------------------------------------------------------------------------------------\") print(\"You enter wrong amount....\") print(\"Try it Again....\") print(\"----------------------------------------------------------------------------------------\")"
   ]
  },
  {
   "cell_type": "code",
   "execution_count": null,
   "metadata": {},
   "outputs": [],
   "source": []
  }
 ],
 "metadata": {
  "kernelspec": {
   "display_name": "Python 3",
   "language": "python",
   "name": "python3"
  },
  "language_info": {
   "codemirror_mode": {
    "name": "ipython",
    "version": 3
   },
   "file_extension": ".py",
   "mimetype": "text/x-python",
   "name": "python",
   "nbconvert_exporter": "python",
   "pygments_lexer": "ipython3",
   "version": "3.7.1"
  }
 },
 "nbformat": 4,
 "nbformat_minor": 2
}
