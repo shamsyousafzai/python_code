{
 "cells": [
  {
   "cell_type": "markdown",
   "metadata": {},
   "source": [
    "# ATM assignment No:3  2019 _4_10\n",
    "Amount \n",
    "\n",
    "Welcome to Virtual Bank\n",
    "Press 1 for Withdraw Amount\n",
    "Press 2 for Amount Deposite\n",
    "Press 3 for Balance Inquiry\n",
    "Press 4 Exit\n",
    "\n",
    "command \n",
    "#print(\"----------------------------------------------------------------------------------------\")\n",
    "\n",
    "command \n",
    "    \n",
    "Withdraw  \"Please Enter the amount to withdraw: \"\n",
    "\n",
    "Amount   Withdraw:\n",
    "You do not have sufficient Amount to Withdraw!\")\n",
    "Please deposite amount first.\")\n",
    "Do you want to Deposite amount?\")\n",
    "      (\"Type 1 for Yes\")        (\"Type 2 for No\")\n",
    "\n",
    "    \n",
    "    Amount \"Please Enter the amount to Deposite: \"\n",
    "            Congratulation your Transaction has been completed succcufully\"\n",
    "           Thank you for banking with us\"\n",
    "        else:\n",
    "            Thank you for banking with us\n",
    " \n",
    "  \n",
    "       Congratulation your Transaction has been completed succcufully\n",
    "        Remainging_Balance = Amount - Withdraw\n",
    "   Withdraw Amount: \", Withdraw)\n",
    "      Balance        : \", Remainging_Balance\n",
    "     Please count your cash before leaving ATM\n",
    "      Thank you for banking with us\n",
    "\n",
    "elif command \n",
    "    Deposite \"Please Enter the amount to Deposite: \"\n",
    "    print(\"----------------------------------------------------------------------------------------\")\n",
    "    Current_Amount  Amount  Deposite\n",
    "   \"Congratulation your Transaction has been completed succcufully\"\n",
    "  \"Your current amount :\"\n",
    "    \" Thank you for banking with us\"\n",
    "    \n",
    "elif command \n",
    "    \"Your current amount :\"\n",
    "    \"Thank you for banking with us\"\n",
    "    \n",
    "elif command \n",
    "    print\n",
    "else:\n",
    "    print(\"----------------------------------------------------------------------------------------\")\n",
    "    print(\"You enter wrong amount....\")\n",
    "    print(\"Try it Again....\")\n",
    "    print(\"----------------------------------------------------------------------------------------\")\n",
    "\n"
   ]
  },
  {
   "cell_type": "code",
   "execution_count": 1,
   "metadata": {},
   "outputs": [],
   "source": [
    "amount = 0"
   ]
  },
  {
   "cell_type": "code",
   "execution_count": null,
   "metadata": {},
   "outputs": [
    {
     "name": "stdout",
     "output_type": "stream",
     "text": [
      "< ---- Welcome to Virtual Bank ---- >\n"
     ]
    }
   ],
   "source": [
    "print(\"< ---- Welcome to Virtual Bank ---- >\")\n",
    "pin = int(input('Enter You 4 Digit Pin: '))\n",
    "if pin == (1234):\n",
    "    print(\"For Withdraw Amount press 1: \")\n",
    "    print(\"For Amount Deposit press  2: \")\n",
    "    print(\"For Balance Inquiry press 3: \")\n",
    "    print(\"For Exit Press 4: \" )\n",
    "    select = int(input(\"\\nselect an option: \"))\n",
    "    if select == 1:\n",
    "        withdraw = int(input(\"Amount to Withdraw: \"))\n",
    "        if withdraw > amount:\n",
    "            print(\"Insufficient Balance. \")\n",
    "        elif withdraw < amount: \n",
    "            print(\"your Transaction has been completed successfully :)\")\n",
    "            amount -= withdraw    \n",
    "            print(\"Remaining Balance: \", amount) # shows balance\n",
    "            print(\"Please count your cash before leaving ATM.\\nThank you for banking with us :)\")\n",
    "\n",
    "        else:\n",
    "            print(\"Thank you for banking with us!\") # Greetings\n",
    "    elif select == 2:\n",
    "        amount += int(input(\"Enter amount: \"))\n",
    "        print(\"Congratulation your Transaction has been completed successfully :)\")\n",
    "        print(\"Your current amount :\", amount) # ur new account balance get updated :)\n",
    "        print(\"Thank you for banking with us! \")\n",
    "\n",
    "    elif select == 3:\n",
    "        print(\"Your current amount :\", amount) # shows how much money do u have\n",
    "        print(\"Thank you for using our services\")\n",
    "\n",
    "    elif select == 4:\n",
    "        print(\"thank you for your time\")\n",
    "\n",
    "    else:\n",
    "        print(\"You entered wrong number \") # in case wrong input is given in the beginning\n",
    "        print(\"Try it Again....\")\n",
    "if pin != 1234:\n",
    "    print(\"pin error !\")"
   ]
  },
  {
   "cell_type": "code",
   "execution_count": null,
   "metadata": {},
   "outputs": [],
   "source": []
  },
  {
   "cell_type": "code",
   "execution_count": null,
   "metadata": {},
   "outputs": [],
   "source": []
  }
 ],
 "metadata": {
  "kernelspec": {
   "display_name": "Python 3",
   "language": "python",
   "name": "python3"
  },
  "language_info": {
   "codemirror_mode": {
    "name": "ipython",
    "version": 3
   },
   "file_extension": ".py",
   "mimetype": "text/x-python",
   "name": "python",
   "nbconvert_exporter": "python",
   "pygments_lexer": "ipython3",
   "version": "3.7.1"
  }
 },
 "nbformat": 4,
 "nbformat_minor": 2
}
