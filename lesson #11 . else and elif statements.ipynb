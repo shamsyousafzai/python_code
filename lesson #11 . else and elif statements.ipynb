{
 "cells": [
  {
   "cell_type": "markdown",
   "metadata": {},
   "source": [
    "# else and elif statements"
   ]
  },
  {
   "cell_type": "code",
   "execution_count": 8,
   "metadata": {},
   "outputs": [],
   "source": [
    "species = \"dog\"# as the condition tested fails so nothing will hapen\n",
    "if species == \"cat\":\n",
    "    print(\"Yep, it's cat.\")"
   ]
  },
  {
   "cell_type": "code",
   "execution_count": 10,
   "metadata": {},
   "outputs": [
    {
     "name": "stdout",
     "output_type": "stream",
     "text": [
      "Nope, not cat.\n"
     ]
    }
   ],
   "source": [
    "# but if we want something to happen .. we can write\n",
    "if species != \"cat\":\n",
    "    print(\"Nope, not cat.\")"
   ]
  },
  {
   "cell_type": "code",
   "execution_count": 13,
   "metadata": {},
   "outputs": [
    {
     "name": "stdout",
     "output_type": "stream",
     "text": [
      "Nope, not cat.\n"
     ]
    }
   ],
   "source": [
    "# If the variable species isn't assigned \"cat,\", So there's no reason to test for not \"cat.\"\n",
    "# therefore ,the following code is more concise, less goofy, and more readable\n",
    "\n",
    "if species == \"cat\":      # if the test passes , the first message displays.\n",
    "    print(\"Yep, it's cat.\")\n",
    "else:                    # if the test fails , the second message displays.\n",
    "    print(\"Nope, not cat.\")"
   ]
  },
  {
   "cell_type": "code",
   "execution_count": 20,
   "metadata": {},
   "outputs": [],
   "source": [
    "# elif is a short for else if .If no test has been successful yet,an elif tries something else.\n",
    "donut_price = \"low\"\n",
    "if donut_condition == \"fresh\": # if donuts are fresh, the score is 10, and Python stops testing.\n",
    "    buy_score = 10\n",
    "elif donut_price == \"low\": # If they aren't fresh (elif),Python will test for a low price\n",
    "    buy_score = 5\n",
    "else:                     # If that test too fails (else), the score is 0    \n",
    "    buy_score = 0"
   ]
  },
  {
   "cell_type": "code",
   "execution_count": 27,
   "metadata": {},
   "outputs": [
    {
     "data": {
      "text/plain": [
       "'low'"
      ]
     },
     "execution_count": 27,
     "metadata": {},
     "output_type": "execute_result"
    }
   ],
   "source": [
    "donut_price"
   ]
  },
  {
   "cell_type": "code",
   "execution_count": 32,
   "metadata": {},
   "outputs": [],
   "source": [
    "donut_condition = \"fresh\"\n",
    "if donut_condition == \"fresh\":\n",
    "    buy_score += 10\n",
    "elif donut_filling == \"chocolate\":\n",
    "    buy_score += 5\n",
    "else:\n",
    "    print(\"nothing\")"
   ]
  },
  {
   "cell_type": "code",
   "execution_count": 33,
   "metadata": {},
   "outputs": [
    {
     "data": {
      "text/plain": [
       "'fresh'"
      ]
     },
     "execution_count": 33,
     "metadata": {},
     "output_type": "execute_result"
    }
   ],
   "source": [
    "donut_condition"
   ]
  },
  {
   "cell_type": "code",
   "execution_count": null,
   "metadata": {},
   "outputs": [],
   "source": []
  }
 ],
 "metadata": {
  "kernelspec": {
   "display_name": "Python 3",
   "language": "python",
   "name": "python3"
  },
  "language_info": {
   "codemirror_mode": {
    "name": "ipython",
    "version": 3
   },
   "file_extension": ".py",
   "mimetype": "text/x-python",
   "name": "python",
   "nbconvert_exporter": "python",
   "pygments_lexer": "ipython3",
   "version": "3.7.1"
  }
 },
 "nbformat": 4,
 "nbformat_minor": 2
}
