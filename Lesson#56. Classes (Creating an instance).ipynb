{
 "cells": [
  {
   "cell_type": "markdown",
   "metadata": {},
   "source": [
    "# Classes: Creating an instance"
   ]
  },
  {
   "cell_type": "markdown",
   "metadata": {},
   "source": [
    "We've created a class called Patient…"
   ]
  },
  {
   "cell_type": "code",
   "execution_count": 1,
   "metadata": {},
   "outputs": [],
   "source": [
    "class Patient():\n",
    "    def __init__(self, last_name):\n",
    "        self.last_name = last_name"
   ]
  },
  {
   "cell_type": "markdown",
   "metadata": {},
   "source": [
    "A class is analogous to the blank form a healthcare receptionist hands you to fill out. The form is the same for everyone. What differs from copy to copy is what you write in the blanks. For learning purposes, our paper form has only one blank to fill, Last Name.\n",
    "\n",
    "Similarly, our class, Patient, has only one attribute to fill in, last_name.\n",
    "\n",
    "One more thing, though. In addition to the single blank for the last name, the paper form includes a unique identifier for each patient. The printer might have added this automatically, with a different number for each individual sheet.\n",
    "\n",
    "This sheet's unique identifier, the patient ID, is pid4044."
   ]
  },
  {
   "cell_type": "code",
   "execution_count": 2,
   "metadata": {},
   "outputs": [],
   "source": [
    "# Here's how we do the same thing by creating an instance of the class\n",
    "# Patient:\n",
    "\n",
    "pid4343 = Patient(\"Taleb\")"
   ]
  },
  {
   "cell_type": "markdown",
   "metadata": {},
   "source": [
    "…we're saying, \"Create a copy (instance) of the Patient form (class) that has the unique identifier pid4343, and fill in the blank for last name (last_name attribute) with \"Taleb.\"\n",
    "\n",
    "In this one-attribute class that we're starting with, we don't have to tell Python which \"blank\" to fill in, because at this point, our class has only one attribute, last_name.\n",
    "\n",
    "When we create an instance of a class—a fresh sheet to fill out—we say we instantiate the class.\n",
    "\n",
    "We begin with the name of the instance—its unique identifier. In this instance, it's pid4343"
   ]
  },
  {
   "cell_type": "markdown",
   "metadata": {},
   "source": [
    "    pid4343 = Patient(\"Taleb\")\n",
    "Then comes the equal sign:\n",
    "\n",
    "    pid4343 = Patient(\"Taleb\")\n",
    "Then the name of the class:\n",
    "\n",
    "    pid4343 = Patient(\"Taleb\")\n",
    "Then the value to be assigned to the attribute, in parentheses:\n",
    "\n",
    "    pid4343 = Patient(\"Taleb\")\n",
    "We can use the class to create as many instances—as many filled-out forms —as we need:"
   ]
  },
  {
   "cell_type": "code",
   "execution_count": 3,
   "metadata": {},
   "outputs": [],
   "source": [
    "pid4344 = Patient(\"Anand\")\n",
    "pid4345 = Patient(\"Oppenheimer\")\n",
    "pid4346 = Patient(\"Lin\")\n",
    "pid12902 = Patient(\"Nilsson\")"
   ]
  },
  {
   "cell_type": "markdown",
   "metadata": {},
   "source": [
    "Now we have the equivalent of five filled-out forms for five different patients. The particulars are different, but the structure is identical.\n",
    "\n",
    "Instead of creating a class and then creating multiple instances of the class, you could create a dictionary for each patient:"
   ]
  },
  {
   "cell_type": "code",
   "execution_count": 4,
   "metadata": {},
   "outputs": [],
   "source": [
    "pid4343 = {\"last name\": \"Taleb\"}\n",
    "pid4344 = {\"last name\": \"Anand\"}\n",
    "pid4345 = {\"last name\": \"Oppenheimer\"}\n",
    "pid4346 = {\"last name\": \"Lin\"}\n",
    "pid12902 = {\"last name\": \"Nilsson\"}"
   ]
  },
  {
   "cell_type": "markdown",
   "metadata": {},
   "source": [
    "This works, but it's the equivalent of the clinic receptionist creating a new patient form from scratch for each patient. That might make sense for our ridiculously simple form with only one piece of patient information in it, but the slight extra effort required to create a class pays off in ways you'll appreciate when you're working with more complex sets of data."
   ]
  },
  {
   "cell_type": "code",
   "execution_count": null,
   "metadata": {},
   "outputs": [],
   "source": []
  }
 ],
 "metadata": {
  "kernelspec": {
   "display_name": "Python 3",
   "language": "python",
   "name": "python3"
  },
  "language_info": {
   "codemirror_mode": {
    "name": "ipython",
    "version": 3
   },
   "file_extension": ".py",
   "mimetype": "text/x-python",
   "name": "python",
   "nbconvert_exporter": "python",
   "pygments_lexer": "ipython3",
   "version": "3.7.1"
  }
 },
 "nbformat": 4,
 "nbformat_minor": 2
}
