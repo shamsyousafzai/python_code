{
 "cells": [
  {
   "cell_type": "markdown",
   "metadata": {},
   "source": [
    "# if statements nested"
   ]
  },
  {
   "cell_type": "code",
   "execution_count": 9,
   "metadata": {},
   "outputs": [],
   "source": [
    "\n",
    "x = 5\n",
    "y = 6\n",
    "a = 12\n",
    "b = 13\n",
    "c = 15\n",
    "d = 14\n",
    "e = 4\n",
    "f = 4\n",
    "g = 5\n",
    "h = 4\n",
    "# check out this code\n",
    "# if the condition is true so the value of G and h is equal\n",
    "# other wise e is assigned to the value of f\n",
    "if (x == y or a == b) and c == d:\n",
    "    g = h\n",
    "else:\n",
    "    e = f"
   ]
  },
  {
   "cell_type": "code",
   "execution_count": 12,
   "metadata": {},
   "outputs": [],
   "source": [
    "# There's another way to code this, using nesting.\n",
    "if c == d:\n",
    "    if x == y:\n",
    "        g = h\n",
    "    elif a == b:\n",
    "        g = h\n",
    "    else:\n",
    "        e = f\n",
    "else:\n",
    "    e = f"
   ]
  },
  {
   "cell_type": "code",
   "execution_count": 18,
   "metadata": {},
   "outputs": [],
   "source": [
    "# Nest levels are communicated to Python by indentations. \n",
    "#There are three second-level blocks nested inside the top-level if. nested first-level blocks begin with no indentation…\n",
    "if c == d:\n",
    "    if x == y:\n",
    "        g = h\n",
    "    elif a == b:\n",
    "        g = h\n",
    "    else:\n",
    "        e = f\n",
    "else:\n",
    "    e = f"
   ]
  },
  {
   "cell_type": "code",
   "execution_count": 20,
   "metadata": {},
   "outputs": [],
   "source": [
    "if c == d:\n",
    "    if x == y:\n",
    "        g = h\n",
    "    elif a == b:\n",
    "        g = h\n",
    "    else:\n",
    "        e = f\n",
    "else:\n",
    "    e = f"
   ]
  },
  {
   "cell_type": "code",
   "execution_count": null,
   "metadata": {},
   "outputs": [],
   "source": []
  }
 ],
 "metadata": {
  "kernelspec": {
   "display_name": "Python 3",
   "language": "python",
   "name": "python3"
  },
  "language_info": {
   "codemirror_mode": {
    "name": "ipython",
    "version": 3
   },
   "file_extension": ".py",
   "mimetype": "text/x-python",
   "name": "python",
   "nbconvert_exporter": "python",
   "pygments_lexer": "ipython3",
   "version": "3.7.1"
  }
 },
 "nbformat": 4,
 "nbformat_minor": 2
}
